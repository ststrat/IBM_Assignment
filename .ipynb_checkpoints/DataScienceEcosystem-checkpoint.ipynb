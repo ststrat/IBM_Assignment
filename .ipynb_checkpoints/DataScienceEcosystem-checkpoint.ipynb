{
 "cells": [
  {
   "cell_type": "markdown",
   "id": "90ed8468-df85-4063-94c0-c9c1fc6371d5",
   "metadata": {},
   "source": [
    "# Data Science Tools and Ecosystem"
   ]
  },
  {
   "cell_type": "markdown",
   "id": "ade95da6-bd24-4e47-bfcb-0070e1bef44e",
   "metadata": {},
   "source": [
    "In this notebook, Data Science Tools and Ecosystem are summarized."
   ]
  },
  {
   "cell_type": "markdown",
   "id": "864f49d8-1a46-4cc3-be08-e92f2a7d55f3",
   "metadata": {},
   "source": [
    "Some of the popular languages that Data Scientists use are:\n",
    "1. Python\n",
    "2. R\n",
    "3. Julia"
   ]
  },
  {
   "cell_type": "markdown",
   "id": "8d4016dc-6aac-41b6-ad22-9bb857b71096",
   "metadata": {},
   "source": [
    "Some of the commonly used libraries used by Data Scientists include:\n",
    "1. Pandas\n",
    "2. NumPy\n",
    "3. caret\n",
    "4. ggplot"
   ]
  },
  {
   "cell_type": "markdown",
   "id": "207f06be-d85e-4c00-b124-f2b7dc2c69b8",
   "metadata": {},
   "source": [
    "|  Data Science Tools  |\n",
    "| :---------------------: |\n",
    "| Apache Spark         |\n",
    "| Plotly               |\n",
    "| TensorFlow           |"
   ]
  },
  {
   "cell_type": "markdown",
   "id": "111db119-1669-4109-a352-0443e931d3d2",
   "metadata": {},
   "source": [
    "Below are a few examples of evaluating arithmetic expressions in Python"
   ]
  },
  {
   "cell_type": "code",
   "execution_count": 3,
   "id": "e715105b-6abd-4620-9200-1742a5792690",
   "metadata": {},
   "outputs": [
    {
     "data": {
      "text/plain": [
       "17"
      ]
     },
     "execution_count": 3,
     "metadata": {},
     "output_type": "execute_result"
    }
   ],
   "source": [
    "# This a simple arithmetic expression to mutiply then add integers\n",
    "(3*4)+5"
   ]
  },
  {
   "cell_type": "code",
   "execution_count": 5,
   "id": "165e6528-1917-4e81-b188-e51927bb4bd2",
   "metadata": {},
   "outputs": [
    {
     "data": {
      "text/plain": [
       "3.3333333333333335"
      ]
     },
     "execution_count": 5,
     "metadata": {},
     "output_type": "execute_result"
    }
   ],
   "source": [
    "# This will convert 200 minutes to hours by diving by 60\n",
    "200/60"
   ]
  },
  {
   "cell_type": "markdown",
   "id": "f3d5bcc6-bcbd-4acf-9ee9-b1089c83a434",
   "metadata": {},
   "source": [
    "**Objectives:**\n",
    "- Summarize Data Science Tools and Ecosystem.\n",
    "- List popular languages that Data Scientists use.\n",
    "- Demonstrate code and markdown cells."
   ]
  },
  {
   "cell_type": "markdown",
   "id": "85820284-9c8e-4eea-8437-6399a5327b2d",
   "metadata": {},
   "source": [
    "## Author: \n",
    "H. D. Akhond"
   ]
  },
  {
   "cell_type": "code",
   "execution_count": null,
   "id": "820ad30f-9be4-4652-a3e4-dc9f5555fbec",
   "metadata": {},
   "outputs": [],
   "source": []
  }
 ],
 "metadata": {
  "kernelspec": {
   "display_name": "Python 3 (ipykernel)",
   "language": "python",
   "name": "python3"
  },
  "language_info": {
   "codemirror_mode": {
    "name": "ipython",
    "version": 3
   },
   "file_extension": ".py",
   "mimetype": "text/x-python",
   "name": "python",
   "nbconvert_exporter": "python",
   "pygments_lexer": "ipython3",
   "version": "3.12.4"
  }
 },
 "nbformat": 4,
 "nbformat_minor": 5
}
